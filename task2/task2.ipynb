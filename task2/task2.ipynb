{
 "cells": [
  {
   "cell_type": "code",
   "execution_count": 1,
   "id": "714c408d-d087-408d-a779-eb2e6b5b93d7",
   "metadata": {},
   "outputs": [
    {
     "name": "stdout",
     "output_type": "stream",
     "text": [
      "Requirement already satisfied: chefboost in c:\\users\\duygu\\anaconda3\\lib\\site-packages (0.0.17)\n",
      "Requirement already satisfied: numpy>=1.14.0 in c:\\users\\duygu\\anaconda3\\lib\\site-packages (from chefboost) (1.20.3)\n",
      "Requirement already satisfied: pandas>=0.22.0 in c:\\users\\duygu\\anaconda3\\lib\\site-packages (from chefboost) (1.3.4)\n",
      "Requirement already satisfied: tqdm>=4.30.0 in c:\\users\\duygu\\anaconda3\\lib\\site-packages (from chefboost) (4.62.3)\n",
      "Requirement already satisfied: psutil>=5.4.3 in c:\\users\\duygu\\anaconda3\\lib\\site-packages (from chefboost) (5.8.0)\n",
      "Requirement already satisfied: python-dateutil>=2.7.3 in c:\\users\\duygu\\anaconda3\\lib\\site-packages (from pandas>=0.22.0->chefboost) (2.8.2)\n",
      "Requirement already satisfied: pytz>=2017.3 in c:\\users\\duygu\\anaconda3\\lib\\site-packages (from pandas>=0.22.0->chefboost) (2021.3)\n",
      "Requirement already satisfied: six>=1.5 in c:\\users\\duygu\\anaconda3\\lib\\site-packages (from python-dateutil>=2.7.3->pandas>=0.22.0->chefboost) (1.16.0)\n",
      "Requirement already satisfied: colorama in c:\\users\\duygu\\anaconda3\\lib\\site-packages (from tqdm>=4.30.0->chefboost) (0.4.4)\n",
      "Note: you may need to restart the kernel to use updated packages.\n"
     ]
    }
   ],
   "source": [
    "pip install chefboost"
   ]
  },
  {
   "cell_type": "code",
   "execution_count": 2,
   "id": "6fe73781-8891-40bd-b30c-d6795d1bb2ea",
   "metadata": {},
   "outputs": [],
   "source": [
    "import numpy as np\n",
    "import pandas as pd\n",
    "from chefboost import Chefboost as chef\n",
    "import pandas as pd\n",
    "from chefboost.training import Training"
   ]
  },
  {
   "cell_type": "code",
   "execution_count": 3,
   "id": "89232673-017f-47d2-935d-17f7540651c7",
   "metadata": {},
   "outputs": [],
   "source": [
    "df = pd.read_csv(\"golf_df.csv\")"
   ]
  },
  {
   "cell_type": "code",
   "execution_count": 4,
   "id": "5dc4a98c-524d-4bc1-9782-e45f3efebb74",
   "metadata": {},
   "outputs": [
    {
     "data": {
      "text/html": [
       "<div>\n",
       "<style scoped>\n",
       "    .dataframe tbody tr th:only-of-type {\n",
       "        vertical-align: middle;\n",
       "    }\n",
       "\n",
       "    .dataframe tbody tr th {\n",
       "        vertical-align: top;\n",
       "    }\n",
       "\n",
       "    .dataframe thead th {\n",
       "        text-align: right;\n",
       "    }\n",
       "</style>\n",
       "<table border=\"1\" class=\"dataframe\">\n",
       "  <thead>\n",
       "    <tr style=\"text-align: right;\">\n",
       "      <th></th>\n",
       "      <th>Outlook</th>\n",
       "      <th>Temperature</th>\n",
       "      <th>Humidity</th>\n",
       "      <th>Windy</th>\n",
       "      <th>Play</th>\n",
       "    </tr>\n",
       "  </thead>\n",
       "  <tbody>\n",
       "    <tr>\n",
       "      <th>0</th>\n",
       "      <td>sunny</td>\n",
       "      <td>hot</td>\n",
       "      <td>high</td>\n",
       "      <td>False</td>\n",
       "      <td>no</td>\n",
       "    </tr>\n",
       "    <tr>\n",
       "      <th>1</th>\n",
       "      <td>sunny</td>\n",
       "      <td>hot</td>\n",
       "      <td>high</td>\n",
       "      <td>True</td>\n",
       "      <td>no</td>\n",
       "    </tr>\n",
       "    <tr>\n",
       "      <th>2</th>\n",
       "      <td>overcast</td>\n",
       "      <td>hot</td>\n",
       "      <td>high</td>\n",
       "      <td>False</td>\n",
       "      <td>yes</td>\n",
       "    </tr>\n",
       "    <tr>\n",
       "      <th>3</th>\n",
       "      <td>rainy</td>\n",
       "      <td>mild</td>\n",
       "      <td>high</td>\n",
       "      <td>False</td>\n",
       "      <td>yes</td>\n",
       "    </tr>\n",
       "    <tr>\n",
       "      <th>4</th>\n",
       "      <td>rainy</td>\n",
       "      <td>cool</td>\n",
       "      <td>normal</td>\n",
       "      <td>False</td>\n",
       "      <td>yes</td>\n",
       "    </tr>\n",
       "    <tr>\n",
       "      <th>5</th>\n",
       "      <td>rainy</td>\n",
       "      <td>cool</td>\n",
       "      <td>normal</td>\n",
       "      <td>True</td>\n",
       "      <td>no</td>\n",
       "    </tr>\n",
       "    <tr>\n",
       "      <th>6</th>\n",
       "      <td>overcast</td>\n",
       "      <td>cool</td>\n",
       "      <td>normal</td>\n",
       "      <td>True</td>\n",
       "      <td>yes</td>\n",
       "    </tr>\n",
       "    <tr>\n",
       "      <th>7</th>\n",
       "      <td>sunny</td>\n",
       "      <td>mild</td>\n",
       "      <td>high</td>\n",
       "      <td>False</td>\n",
       "      <td>no</td>\n",
       "    </tr>\n",
       "    <tr>\n",
       "      <th>8</th>\n",
       "      <td>sunny</td>\n",
       "      <td>cool</td>\n",
       "      <td>normal</td>\n",
       "      <td>False</td>\n",
       "      <td>yes</td>\n",
       "    </tr>\n",
       "    <tr>\n",
       "      <th>9</th>\n",
       "      <td>rainy</td>\n",
       "      <td>mild</td>\n",
       "      <td>normal</td>\n",
       "      <td>False</td>\n",
       "      <td>yes</td>\n",
       "    </tr>\n",
       "  </tbody>\n",
       "</table>\n",
       "</div>"
      ],
      "text/plain": [
       "    Outlook Temperature Humidity  Windy Play\n",
       "0     sunny         hot     high  False   no\n",
       "1     sunny         hot     high   True   no\n",
       "2  overcast         hot     high  False  yes\n",
       "3     rainy        mild     high  False  yes\n",
       "4     rainy        cool   normal  False  yes\n",
       "5     rainy        cool   normal   True   no\n",
       "6  overcast        cool   normal   True  yes\n",
       "7     sunny        mild     high  False   no\n",
       "8     sunny        cool   normal  False  yes\n",
       "9     rainy        mild   normal  False  yes"
      ]
     },
     "execution_count": 4,
     "metadata": {},
     "output_type": "execute_result"
    }
   ],
   "source": [
    "df.head(10)"
   ]
  },
  {
   "cell_type": "code",
   "execution_count": 5,
   "id": "fc9ddd27-da22-4b3e-8d88-8c33f4af8830",
   "metadata": {},
   "outputs": [
    {
     "name": "stdout",
     "output_type": "stream",
     "text": [
      "[INFO]:  6 CPU cores will be allocated in parallel running\n",
      "ID3  tree is going to be built...\n",
      "-------------------------\n",
      "finished in  1.3046958446502686  seconds\n",
      "-------------------------\n",
      "Evaluate  train set\n",
      "-------------------------\n",
      "Accuracy:  100.0 % on  14  instances\n",
      "Labels:  ['no' 'yes']\n",
      "Confusion matrix:  [[5, 0], [0, 9]]\n",
      "Precision:  100.0 %, Recall:  100.0 %, F1:  100.0 %\n"
     ]
    }
   ],
   "source": [
    "#ID3\n",
    "config = {'algorithm': 'ID3'}\n",
    "model = chef.fit(df, config, target_label='Play')"
   ]
  },
  {
   "cell_type": "code",
   "execution_count": 6,
   "id": "d684a639-f6fd-407b-ae1b-ba9e1150b4cf",
   "metadata": {},
   "outputs": [
    {
     "name": "stdout",
     "output_type": "stream",
     "text": [
      "[INFO]:  6 CPU cores will be allocated in parallel running\n",
      "C4.5  tree is going to be built...\n",
      "-------------------------\n",
      "finished in  1.1489930152893066  seconds\n",
      "-------------------------\n",
      "Evaluate  train set\n",
      "-------------------------\n",
      "Accuracy:  100.0 % on  14  instances\n",
      "Labels:  ['no' 'yes']\n",
      "Confusion matrix:  [[5, 0], [0, 9]]\n",
      "Precision:  100.0 %, Recall:  100.0 %, F1:  100.0 %\n"
     ]
    }
   ],
   "source": [
    "#C4.5\n",
    "config = {'algorithm' : 'C4.5'}\n",
    "model = chef.fit(df, config, target_label = 'Play')"
   ]
  },
  {
   "cell_type": "code",
   "execution_count": 7,
   "id": "16a74301-bbb7-40c6-8eeb-9ae3023adb62",
   "metadata": {},
   "outputs": [],
   "source": [
    "#ID3 Rules\n",
    "def findDecision(obj): #obj[0]: Outlook, obj[1]: Temperature, obj[2]: Humidity, obj[3]: Windy  \n",
    "\t# {\"feature\": \"Outlook\", \"instances\": 14, \"metric_value\": 0.9403, \"depth\": 1}  \n",
    "\tif obj[0] == 'rainy':  \n",
    "\t\t# {\"feature\": \"Windy\", \"instances\": 5, \"metric_value\": 0.971, \"depth\": 2}  \n",
    "\t\tif obj[3]<=False:  \n",
    "\t\t\treturn 'yes'  \n",
    "\t\telif obj[3]>False:  \n",
    "\t\t\treturn 'no'  \n",
    "\t\telse: return 'no'  \n",
    "\telif obj[0] == 'sunny':  \n",
    "\t\t# {\"feature\": \"Humidity\", \"instances\": 5, \"metric_value\": 0.971, \"depth\": 2}  \n",
    "\t\tif obj[2] == 'high':  \n",
    "\t\t\treturn 'no'  \n",
    "\t\telif obj[2] == 'normal':  \n",
    "\t\t\treturn 'yes'  \n",
    "\t\telse: return 'yes'  \n",
    "\telif obj[0] == 'overcast':  \n",
    "\t\treturn 'yes'  \n",
    "\telse: return 'yes'  "
   ]
  },
  {
   "cell_type": "code",
   "execution_count": 8,
   "id": "b9e7c802-3a86-4fc7-ab61-69d4b21d1432",
   "metadata": {},
   "outputs": [],
   "source": [
    "#C4.5 Rules\n",
    "def findDecision(obj): #obj[0]: Outlook, obj[1]: Temperature, obj[2]: Humidity, obj[3]: Windy\n",
    "\t# {\"feature\": \"Outlook\", \"instances\": 14, \"metric_value\": 0.9403, \"depth\": 1}\n",
    "\tif obj[0] == 'sunny':\n",
    "\t\t# {\"feature\": \"Humidity\", \"instances\": 5, \"metric_value\": 0.971, \"depth\": 2}\n",
    "\t\tif obj[2] == 'high':\n",
    "\t\t\treturn 'no'\n",
    "\t\telif obj[2] == 'normal':\n",
    "\t\t\treturn 'yes'\n",
    "\t\telse: return 'yes'\n",
    "\telif obj[0] == 'rainy':\n",
    "\t\t# {\"feature\": \"Windy\", \"instances\": 5, \"metric_value\": 0.971, \"depth\": 2}\n",
    "\t\tif obj[3]<=False:\n",
    "\t\t\treturn 'yes'\n",
    "\t\telif obj[3]>False:\n",
    "\t\t\treturn 'no'\n",
    "\t\telse: return 'no'\n",
    "\telif obj[0] == 'overcast':\n",
    "\t\treturn 'yes'\n",
    "\telse: return 'yes'"
   ]
  },
  {
   "cell_type": "markdown",
   "id": "3337dbdb-9e53-449e-bf24-8002ac82205d",
   "metadata": {},
   "source": [
    "Speed C4.5 > ID3\n",
    "The Desired column must be categorical (boolean is preference) for both algorithms.\n",
    "ID3 cannot work with numerical columns. C4.5 can work with numerical columns.\n",
    "ID3 works with categorical values, C4.5 encodes categorical values to numerical values and does numerical calculations.\n",
    "C4.5 is a better version of ID3."
   ]
  }
 ],
 "metadata": {
  "kernelspec": {
   "display_name": "Python 3 (ipykernel)",
   "language": "python",
   "name": "python3"
  },
  "language_info": {
   "codemirror_mode": {
    "name": "ipython",
    "version": 3
   },
   "file_extension": ".py",
   "mimetype": "text/x-python",
   "name": "python",
   "nbconvert_exporter": "python",
   "pygments_lexer": "ipython3",
   "version": "3.9.7"
  }
 },
 "nbformat": 4,
 "nbformat_minor": 5
}
